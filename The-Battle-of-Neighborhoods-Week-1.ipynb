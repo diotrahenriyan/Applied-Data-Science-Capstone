{
 "cells": [
  {
   "attachments": {},
   "cell_type": "markdown",
   "metadata": {},
   "source": [
    "# The Battle of the Neighborhoods - Week 1\n",
    "\n",
    "## Problem Background\n",
    "\n",
    "The City of New York, is the most populous city in the United States. It is diverse and is the financial capital of USA. It is multicultural. It provides lot of business oppourtunities and business friendly environment. It has attracted many different players into the market. It is a global hub of business and commerce. The city is a major center for banking and finance, retailing, world trade, transportation, tourism, real estate, new media, traditional media, advertising, legal services, accountancy, insurance, theater, fashion, and the arts in the United States.\n",
    "\n",
    "This also means that the market is highly competitive. As it is highly developed city so cost of doing business is also one of the highest. Thus, any new business venture or expansion needs to be analysed carefully. The insights derived from analysis will give good understanding of the business environment which help in strategically targeting the market. This will help in reduction of risk. And the Return on Investment will be reasonable.\n",
    "\n",
    "## Problem Description / Business Problem\n",
    "\n",
    "A restaurant is a business which prepares and serves food and drink to customers in return for money, either paid before the meal, after the meal, or with an open account. The City of New York is famous for its excelllent cuisine. It's food culture includes an array of international cuisines influenced by the city's immigrant history.\n",
    "\n",
    "Central and Eastern European immigrants, especially Jewish immigrants - bagels, cheesecake, hot dogs, knishes, and delicatessens\n",
    "Italian immigrants - New York-style pizza and Italian cuisine\n",
    "Jewish immigrants and Irish immigrants - pastrami and corned beef\n",
    "Chinese and other Asian restaurants, sandwich joints, trattorias, diners, and coffeehouses are ubiquitous throughout the city\n",
    "mobile food vendors - Some 4,000 licensed by the city\n",
    "Middle Eastern foods such as falafel and kebabs examples of modern New York street food\n",
    "It is famous for not just Pizzerias, Cafe's but also for fine dining Michelin starred restaurants.The city is home to \"nearly one thousand of the finest and most diverse haute cuisine restaurants in the world\", according to Michelin.\n",
    "So it is evident that to survive in such competitive market it is very important to startegically plan. Various factors need to be studied inorder to decide on the Location such as :\n",
    "\n",
    "New York Population\n",
    "New York City Demographics\n",
    "Are there any Farmers Markets, Wholesale markets etc nearby so that the ingredients can be purchased fresh to maintain quality and cost?\n",
    "Are there any venues like Gyms, Entertainmnet zones, Parks etc nearby where floating population is high etc\n",
    "Who are the competitors in that location?\n",
    "Cuisine served / Menu of the competitors\n",
    "Segmentation of the Borough\n",
    "Untapped markets\n",
    "Saturated markets etc\n",
    "The list can go on...\n",
    "\n",
    "Eventhough well funded we need to choose the correct location to start its first venture.If this is successful they can replicate the same in other locations. First move is very important, thereby choice of location is very important.\n",
    "\n",
    "## Data Description / How It Will Be Used\n",
    "\n",
    "Explore Dataset Neighborhood has a total of 5 boroughs and 306 neighborhoods. In order to segement the neighborhoods and explore them, we will essentially need a dataset that contains the 5 boroughs and the neighborhoods that exist in each borough as well as the the latitude and logitude coordinates of each neighborhood.\n",
    "\n",
    "Luckily, this dataset exists for free on the web. Feel free to try to find this dataset on your own, but here is the link to the dataset: https://geo.nyu.edu/catalog/nyu_2451_34572\n",
    "\n",
    "The description of the data and how it will be used to solve the problem are:\n",
    "\n",
    "1. To identify the characteristics of our competitors' venues in Manhattan, we would first need to find out the number of sushi bars in Manhattan currently and their location.\n",
    "2. We then used Google Map API to find their geographic coordinates based on their postal code addresses.\n",
    "3. In Manhattan, there is 1763 sushi bars are currently operating."
   ]
  }
 ],
 "metadata": {
  "kernelspec": {
   "display_name": "Python 3",
   "language": "python",
   "name": "python3"
  },
  "language_info": {
   "codemirror_mode": {
    "name": "ipython",
    "version": 3
   },
   "file_extension": ".py",
   "mimetype": "text/x-python",
   "name": "python",
   "nbconvert_exporter": "python",
   "pygments_lexer": "ipython3",
   "version": "3.7.6"
  }
 },
 "nbformat": 4,
 "nbformat_minor": 4
}
